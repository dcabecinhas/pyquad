{
 "cells": [
  {
   "cell_type": "code",
   "execution_count": null,
   "metadata": {},
   "outputs": [],
   "source": [
    "# %matplotlib widget\n",
    "\n",
    "# Needs this line or else pandas plots do not show in jupyterlab\n",
    "%matplotlib inline\n",
    "\n",
    "import rosbag_pandas\n",
    "import pandas as pd\n",
    "\n",
    "from matplotlib.pyplot import *\n",
    "\n",
    "sys.path.append('../src')\n",
    "from frame_conversions import *\n",
    "from single_quadrotor import *\n",
    "\n",
    "from scipy.integrate import solve_ivp, cumtrapz\n",
    "from scipy.linalg import null_space, expm, inv, norm, eig"
   ]
  },
  {
   "cell_type": "code",
   "execution_count": null,
   "metadata": {},
   "outputs": [],
   "source": [
    "# Fixed omega computation\n",
    "try:\n",
    "#     df = rosbag_pandas.bag_to_dataframe('/home/dcabecinhas/gazebo_logs/rigid_body_load_1_vehicle_2019-08-27-12-36-13.bag')\n",
    "    df = rosbag_pandas.bag_to_dataframe('/home/dcabecinhas/gazebo_logs/rigid_body_load_1_vehicle_2019-08-28-12-47-19.bag')\n",
    "except TypeError:\n",
    "    print(\"Check if file exists!\")"
   ]
  },
  {
   "cell_type": "code",
   "execution_count": null,
   "metadata": {},
   "outputs": [],
   "source": [
    "# Filter only interesting trajectory segment\n",
    "df = df.between_time('00:00:20', '00:00:50')\n",
    "\n",
    "# Resample at 50Hz so we can do copmutations between dataframes\n",
    "df = df.resample('20ms').last()\n",
    "df = df.fillna(method='backfill')"
   ]
  },
  {
   "cell_type": "markdown",
   "metadata": {},
   "source": [
    "List of columns that are not covariances"
   ]
  },
  {
   "cell_type": "code",
   "execution_count": null,
   "metadata": {},
   "outputs": [],
   "source": [
    "# # List topics\n",
    "# topics = [col for col in df.columns if 'cov' not in col]\n",
    "# topics.sort()\n",
    "# [print(elem) for elem in topics];"
   ]
  },
  {
   "cell_type": "raw",
   "metadata": {},
   "source": [
    "List of columns of recorded topics:\n",
    "\n",
    "/clock\n",
    "/diagnostics\n",
    "/mavros/odometry/in \n",
    "/mavros/imu/data\n",
    "/mavros/state\n",
    "/mavros/extended_state\n",
    "/mavros/local_position/odom\n",
    "/mavros/local_position/pose\n",
    "/mavros/setpoint_position/local\n",
    "/mavros/setpoint_raw/attitude\n",
    "/mavros/setpoint_raw/target_attitude\n",
    "/mavros/setpoint_raw/target_local\n",
    "/mavros/target_actuator_control\n",
    "/quad/force\n",
    "/quad/odom\n",
    "/rb_link/force\n",
    "/rb_link/odom\n",
    "/cable/force\n",
    "/cable/odom"
   ]
  },
  {
   "cell_type": "code",
   "execution_count": null,
   "metadata": {},
   "outputs": [],
   "source": [
    "def filter_topics(df,topics):\n",
    "    df_filtered = df[[*topics]]\n",
    "#     df_filtered = df_filtered.fillna(method='backfill')\n",
    "#     df_filtered = df_filtered[df_filtered[df_filtered.columns[0]].notnull()]\n",
    "    return df_filtered"
   ]
  },
  {
   "cell_type": "code",
   "execution_count": null,
   "metadata": {},
   "outputs": [],
   "source": [
    "# Quadrotor - Gazebo"
   ]
  },
  {
   "cell_type": "code",
   "execution_count": null,
   "metadata": {},
   "outputs": [],
   "source": [
    "topics = ['quad_odom__pose_pose_position_x',\n",
    "          'quad_odom__pose_pose_position_y',\n",
    "          'quad_odom__pose_pose_position_z']\n",
    "df_pQ_gazebo = filter_topics(df, topics)\n",
    "\n",
    "topics = ['quad_odom__twist_twist_linear_x',\n",
    "          'quad_odom__twist_twist_linear_y',\n",
    "          'quad_odom__twist_twist_linear_z']\n",
    "df_vQ_gazebo = filter_topics(df, topics)\n",
    "\n",
    "topics = ['quad_odom__pose_pose_position_x',\n",
    "          'quad_odom__pose_pose_position_y',\n",
    "          'quad_odom__pose_pose_position_z']\n",
    "df_fQ_gazebo = filter_topics(df, topics)\n",
    "\n",
    "topics = ['quad_odom__pose_pose_orientation_x',\n",
    "            'quad_odom__pose_pose_orientation_y',\n",
    "            'quad_odom__pose_pose_orientation_z',\n",
    "            'quad_odom__pose_pose_orientation_w']\n",
    "df_qQ_gazebo = filter_topics(df, topics)\n",
    "\n",
    "topics = ['quad_odom__twist_twist_angular_x',\n",
    "            'quad_odom__twist_twist_angular_y',\n",
    "            'quad_odom__twist_twist_angular_z']\n",
    "df_oQ_gazebo = filter_topics(df, topics)\n",
    "\n",
    "topics = ['quad_force__wrench_torque_x',\n",
    "            'quad_force__wrench_torque_y',\n",
    "            'quad_force__wrench_torque_z']\n",
    "df_tauQ_gazebo = filter_topics(df, topics)"
   ]
  },
  {
   "cell_type": "code",
   "execution_count": null,
   "metadata": {},
   "outputs": [],
   "source": [
    "# Load - Gazebo"
   ]
  },
  {
   "cell_type": "code",
   "execution_count": null,
   "metadata": {},
   "outputs": [],
   "source": [
    "topics = ['rb_link_odom__pose_pose_position_x',\n",
    "          'rb_link_odom__pose_pose_position_y',\n",
    "          'rb_link_odom__pose_pose_position_z']\n",
    "df_pL_gazebo = filter_topics(df, topics)\n",
    "\n",
    "topics = ['rb_link_odom__twist_twist_linear_x',\n",
    "          'rb_link_odom__twist_twist_linear_y',\n",
    "          'rb_link_odom__twist_twist_linear_z']\n",
    "df_vL_gazebo = filter_topics(df, topics)\n",
    "\n",
    "topics = ['rb_link_force__wrench_force_x',\n",
    "            'rb_link_force__wrench_force_y',\n",
    "            'rb_link_force__wrench_force_z']\n",
    "df_fL_gazebo = filter_topics(df, topics)\n",
    "\n",
    "topics = ['rb_link_odom__pose_pose_orientation_x',\n",
    "            'rb_link_odom__pose_pose_orientation_y',\n",
    "            'rb_link_odom__pose_pose_orientation_z',\n",
    "            'rb_link_odom__pose_pose_orientation_w']\n",
    "df_qL_gazebo = filter_topics(df, topics)\n",
    "\n",
    "topics = ['rb_link_odom__twist_twist_angular_x',\n",
    "            'rb_link_odom__twist_twist_angular_y',\n",
    "            'rb_link_odom__twist_twist_angular_z']\n",
    "df_oL_gazebo = filter_topics(df, topics)\n",
    "\n",
    "topics = ['rb_link_force__wrench_torque_x',\n",
    "            'rb_link_force__wrench_torque_y',\n",
    "            'rb_link_force__wrench_torque_z']\n",
    "df_tauL_gazebo = filter_topics(df, topics)"
   ]
  },
  {
   "cell_type": "code",
   "execution_count": null,
   "metadata": {},
   "outputs": [],
   "source": [
    "# Quad - Mavros Odom"
   ]
  },
  {
   "cell_type": "code",
   "execution_count": null,
   "metadata": {},
   "outputs": [],
   "source": [
    "topics = ['mavros_local_position_odom__pose_pose_position_x',\n",
    "          'mavros_local_position_odom__pose_pose_position_y',\n",
    "          'mavros_local_position_odom__pose_pose_position_z']\n",
    "df_pQ_odom = filter_topics(df, topics)\n",
    "\n",
    "topics = ['mavros_local_position_odom__twist_twist_linear_x',\n",
    "          'mavros_local_position_odom__twist_twist_linear_y',\n",
    "          'mavros_local_position_odom__twist_twist_linear_z']\n",
    "df_vQ_odom = filter_topics(df, topics)\n",
    "\n",
    "topics = ['mavros_local_position_odom__pose_pose_orientation_x',\n",
    "            'mavros_local_position_odom__pose_pose_orientation_y',\n",
    "            'mavros_local_position_odom__pose_pose_orientation_z',\n",
    "            'mavros_local_position_odom__pose_pose_orientation_w']\n",
    "df_qQ_odom = filter_topics(df, topics)\n",
    "\n",
    "topics = ['mavros_local_position_odom__twist_twist_angular_x',\n",
    "            'mavros_local_position_odom__twist_twist_angular_y',\n",
    "            'mavros_local_position_odom__twist_twist_angular_z']\n",
    "df_oQ_odom = filter_topics(df, topics)"
   ]
  },
  {
   "cell_type": "code",
   "execution_count": null,
   "metadata": {},
   "outputs": [],
   "source": [
    "# Quad - Mavros Pose"
   ]
  },
  {
   "cell_type": "code",
   "execution_count": null,
   "metadata": {},
   "outputs": [],
   "source": [
    "# topics = ['mavros_local_position_pose__pose_pose_position_x',\n",
    "#           'mavros_local_position_pose__pose_pose_position_y',\n",
    "#           'mavros_local_position_pose__pose_pose_position_z']\n",
    "# df_pQ_pose = filter_topics(df, topics)\n",
    "\n",
    "# topics = ['mavros_local_position_pose__pose_pose_orientation_x',\n",
    "#             'mavros_local_position_pose__pose_pose_orientation_y',\n",
    "#             'mavros_local_position_pose__pose_pose_orientation_z',\n",
    "#             'mavros_local_position_pose__pose_pose_orientation_w']\n",
    "# df_qQ_pose = filter_topics(df, topics)"
   ]
  },
  {
   "cell_type": "code",
   "execution_count": null,
   "metadata": {},
   "outputs": [],
   "source": [
    "# Quad - Mavros IMU"
   ]
  },
  {
   "cell_type": "code",
   "execution_count": null,
   "metadata": {},
   "outputs": [],
   "source": [
    "topics = ['mavros_imu_data__orientation_x',\n",
    "            'mavros_imu_data__orientation_y',\n",
    "            'mavros_imu_data__orientation_z',\n",
    "            'mavros_imu_data__orientation_w']\n",
    "df_qQ_imu = filter_topics(df, topics)\n",
    "\n",
    "topics = ['mavros_imu_data__angular_velocity_x',\n",
    "            'mavros_imu_data__angular_velocity_y',\n",
    "            'mavros_imu_data__angular_velocity_z']\n",
    "df_oQ_imu = filter_topics(df, topics)"
   ]
  },
  {
   "cell_type": "code",
   "execution_count": null,
   "metadata": {},
   "outputs": [],
   "source": [
    "# Quad - Mavros Setpoint Position"
   ]
  },
  {
   "cell_type": "code",
   "execution_count": null,
   "metadata": {},
   "outputs": [],
   "source": [
    "# topics = ['mavros_setpoint_position_local__pose_pose_position_x',\n",
    "#           'mavros_setpoint_position_local__pose_pose_position_y',\n",
    "#           'mavros_setpoint_position_local__pose_pose_position_z']\n",
    "# df_pQ_setpoint = filter_topics(df, topics)\n",
    "\n",
    "# topics = ['mavros_setpoint_position_local__pose_pose_orientation_x',\n",
    "#             'mavros_setpoint_position_local__pose_pose_orientation_y',\n",
    "#             'mavros_setpoint_position_local__pose_pose_orientation_z',\n",
    "#             'mavros_setpoint_position_local__pose_pose_orientation_w']\n",
    "# df_qQ_setpoint = filter_topics(df, topics)"
   ]
  },
  {
   "cell_type": "code",
   "execution_count": null,
   "metadata": {},
   "outputs": [],
   "source": [
    "# Quad - Mavros Setpoint Target Position"
   ]
  },
  {
   "cell_type": "code",
   "execution_count": null,
   "metadata": {},
   "outputs": [],
   "source": [
    "# topics = ['mavros_setpoint_raw_target_local__pose_pose_position_x',\n",
    "#           'mavros_setpoint_raw_target_local__pose_pose_position_y',\n",
    "#           'mavros_setpoint_raw_target_local__pose_pose_position_z']\n",
    "# df_pQ_setpoint_target = filter_topics(df, topics)\n",
    "\n",
    "# topics = ['mavros_setpoint_raw_target_local__pose_pose_orientation_x',\n",
    "#             'mavros_setpoint_raw_target_local__pose_pose_orientation_y',\n",
    "#             'mavros_setpoint_raw_target_local__pose_pose_orientation_z',\n",
    "#             'mavros_setpoint_raw_target_local__pose_pose_orientation_w']\n",
    "# df_qQ_setpoint_target = filter_topics(df, topics)"
   ]
  },
  {
   "cell_type": "code",
   "execution_count": null,
   "metadata": {},
   "outputs": [],
   "source": [
    "# Quad - Mavros Setpoint Attitude"
   ]
  },
  {
   "cell_type": "code",
   "execution_count": null,
   "metadata": {},
   "outputs": [],
   "source": [
    "topics = ['mavros_setpoint_raw_attitude__body_rate_x',\n",
    "          'mavros_setpoint_raw_attitude__body_rate_y',\n",
    "          'mavros_setpoint_raw_attitude__body_rate_z']\n",
    "df_oQ_setpoint = filter_topics(df, topics)\n",
    "\n",
    "topics = ['mavros_setpoint_raw_attitude__orientation_x',\n",
    "            'mavros_setpoint_raw_attitude__orientation_y',\n",
    "            'mavros_setpoint_raw_attitude__orientation_z',\n",
    "            'mavros_setpoint_raw_attitude__orientation_w']\n",
    "df_qQ_setpoint = filter_topics(df, topics)\n",
    "\n",
    "topics = ['mavros_setpoint_raw_attitude__thrust']\n",
    "df_TQ_setpoint = filter_topics(df, topics)"
   ]
  },
  {
   "cell_type": "code",
   "execution_count": null,
   "metadata": {},
   "outputs": [],
   "source": [
    "# Quad - Mavros Setpoint Target Attitude"
   ]
  },
  {
   "cell_type": "code",
   "execution_count": null,
   "metadata": {},
   "outputs": [],
   "source": [
    "topics = ['mavros_setpoint_raw_target_attitude__body_rate_x',\n",
    "          'mavros_setpoint_raw_target_attitude__body_rate_y',\n",
    "          'mavros_setpoint_raw_target_attitude__body_rate_z']\n",
    "df_oQ_setpoint_target = filter_topics(df, topics)\n",
    "\n",
    "topics = ['mavros_setpoint_raw_target_attitude__orientation_x',\n",
    "            'mavros_setpoint_raw_target_attitude__orientation_y',\n",
    "            'mavros_setpoint_raw_target_attitude__orientation_z',\n",
    "            'mavros_setpoint_raw_target_attitude__orientation_w']\n",
    "df_qQ_setpoint_target = filter_topics(df, topics)\n",
    "\n",
    "topics = ['mavros_setpoint_raw_target_attitude__thrust']\n",
    "df_TQ_setpoint_target = filter_topics(df, topics)"
   ]
  },
  {
   "cell_type": "code",
   "execution_count": null,
   "metadata": {},
   "outputs": [],
   "source": [
    "# Quad - Mavros Actuation Target "
   ]
  },
  {
   "cell_type": "code",
   "execution_count": null,
   "metadata": {},
   "outputs": [],
   "source": [
    "topics = ['mavros_target_actuator_control__controls0',\n",
    "          'mavros_target_actuator_control__controls1',\n",
    "          'mavros_target_actuator_control__controls2',]\n",
    "df_tauQ_target = filter_topics(df, topics)\n",
    "\n",
    "topics = ['mavros_target_actuator_control__controls3',]\n",
    "df_TQ_target = filter_topics(df, topics)"
   ]
  },
  {
   "cell_type": "code",
   "execution_count": null,
   "metadata": {},
   "outputs": [],
   "source": [
    "# fig, axes = subplots(4, 3, figsize=(20, 15), sharex=True)\n",
    "fig, axes = subplots(4, 3, figsize=(20, 15))\n",
    "\n",
    "plot_style = {\n",
    "#     'marker':'-',\n",
    "    'markersize':0.2,\n",
    "    'grid':True,\n",
    "    'legend':False, \n",
    "             }\n",
    "\n",
    "df_pQ_gazebo.plot(ax=axes[0,0], **plot_style)\n",
    "df_vQ_gazebo.plot(ax=axes[0,1], **plot_style)\n",
    "df_fQ_gazebo.plot(ax=axes[0,2], **plot_style)\n",
    "\n",
    "df_pL_gazebo.plot(ax=axes[1,0], **plot_style)\n",
    "df_vL_gazebo.plot(ax=axes[1,1], **plot_style)\n",
    "df_fL_gazebo.plot(ax=axes[1,2], **plot_style)\n",
    "\n",
    "df_qQ_gazebo.plot(ax=axes[2,0], **plot_style)\n",
    "df_oQ_gazebo.plot(ax=axes[2,1], **plot_style)\n",
    "df_tauQ_gazebo.plot(ax=axes[2,2], **plot_style)\n",
    "\n",
    "df_qL_gazebo.plot(ax=axes[3,0], **plot_style)\n",
    "df_oL_gazebo.plot(ax=axes[3,1], **plot_style)\n",
    "df_tauL_gazebo.plot(ax=axes[3,2], **plot_style)\n",
    "\n",
    "# axes[3,2].set_xlim(pd.Timestamp('1970-01-01 00:00:15'), pd.Timestamp('1970-01-01 00:01:15'));"
   ]
  },
  {
   "cell_type": "code",
   "execution_count": null,
   "metadata": {},
   "outputs": [],
   "source": [
    "topics = ['mavros_setpoint_raw_target_local__position_x',\n",
    "          'mavros_setpoint_raw_target_local__position_y',\n",
    "          'mavros_setpoint_raw_target_local__position_z']\n",
    "mav_target_position = filter_topics(df, topics)\n",
    "\n",
    "topics = ['mavros_setpoint_raw_target_local__yaw']\n",
    "mav_target_yaw = filter_topics(df, topics)\n",
    "\n",
    "topics = ['mavros_setpoint_raw_target_attitude__orientation_x',\n",
    "          'mavros_setpoint_raw_target_attitude__orientation_y',\n",
    "          'mavros_setpoint_raw_target_attitude__orientation_z',\n",
    "          'mavros_setpoint_raw_target_attitude__orientation_w']\n",
    "mav_target_attitude = filter_topics(df, topics)\n",
    "\n",
    "topics = ['mavros_target_actuator_control__controls0',\n",
    "          'mavros_target_actuator_control__controls1',\n",
    "          'mavros_target_actuator_control__controls2',\n",
    "          'mavros_target_actuator_control__controls3']\n",
    "mav_actuators = filter_topics(df, topics)"
   ]
  },
  {
   "cell_type": "code",
   "execution_count": null,
   "metadata": {},
   "outputs": [],
   "source": [
    "fig, axes = subplots(2, 3, figsize=(20, 8))\n",
    "\n",
    "plot_style = {\n",
    "    'linestyle':'',\n",
    "    'marker':'.',\n",
    "    'markersize':1,\n",
    "    'grid':True,\n",
    "    'legend':False, \n",
    "             }\n",
    "\n",
    "df_pQ_gazebo.plot(ax=axes[0,0], **plot_style)\n",
    "# mav_target_position.plot(ax=axes[0,0], **plot_style)\n",
    "\n",
    "df_pL_gazebo.plot(ax=axes[0,1], **plot_style)\n",
    "df_pQ_gazebo.plot(ax=axes[0,1], **plot_style)\n",
    "\n",
    "(-mav_target_attitude).plot(ax=axes[1,0], **plot_style)\n",
    "df_qQ_gazebo.plot(ax=axes[1,0], **plot_style)\n",
    "\n",
    "df_oL_gazebo.plot(ax=axes[0,2], **plot_style)\n",
    "mav_actuators.iloc[:,0:3].plot(ax=axes[1,1], **plot_style)\n",
    "\n",
    "df_tauL_gazebo.plot(ax=axes[1,2], **plot_style)\n",
    "# mav_actuators.plot(ax=axes[1,1], **plot_style)"
   ]
  },
  {
   "cell_type": "code",
   "execution_count": null,
   "metadata": {},
   "outputs": [],
   "source": [
    "fig, axes = subplots(1, 1, figsize=(10, 6))\n",
    "\n",
    "plot(df_pL_gazebo.index, df_pL_gazebo)\n",
    "plot(df_pQ_gazebo.index, df_pQ_gazebo)\n",
    "grid(True)"
   ]
  },
  {
   "cell_type": "code",
   "execution_count": null,
   "metadata": {},
   "outputs": [],
   "source": [
    "fig, axes = subplots(1, 1, figsize=(10, 6))\n",
    "\n",
    "plot_style = {\n",
    "    'linestyle':'',\n",
    "    'marker':'.',\n",
    "    'markersize':2,\n",
    "#     'grid':True,\n",
    "#     'legend':False, \n",
    "             }\n",
    "\n",
    "plot(df_qQ_gazebo.index, df_qQ_gazebo.iloc[:,0:2], **plot_style)\n",
    "plot(mav_target_attitude.index, mav_target_attitude.iloc[:,0:2], **plot_style)\n",
    "grid(True)"
   ]
  },
  {
   "cell_type": "code",
   "execution_count": null,
   "metadata": {},
   "outputs": [],
   "source": [
    "fig, axes = subplots(1, 1, figsize=(10,6))\n",
    "\n",
    "plot(df_qQ_gazebo.index, df_qQ_gazebo.iloc[:,0:2])\n",
    "plot(mav_target_attitude.index, -mav_target_attitude.iloc[:,0:2])\n",
    "grid(True)"
   ]
  },
  {
   "cell_type": "code",
   "execution_count": null,
   "metadata": {},
   "outputs": [],
   "source": [
    "fig, axes = subplots(1, 1, figsize=(10,6))\n",
    "\n",
    "plot(df_qQ_gazebo.index, df_qQ_gazebo.iloc[:,0:2])\n",
    "plot(mav_target_attitude.index, -mav_target_attitude.iloc[:,0:2])\n",
    "# plot(df_oL_gazebo.index, df_oL_gazebo)\n",
    "grid(True)"
   ]
  },
  {
   "cell_type": "code",
   "execution_count": null,
   "metadata": {},
   "outputs": [],
   "source": [
    "fig, axes = subplots(1, 1, figsize=(10,6))\n",
    "\n",
    "# plot(df_qL_gazebo.index, df_qL_gazebo.iloc[:,0:2])\n",
    "# plot(mav_target_attitude.index, -mav_target_attitude.iloc[:,0:2])\n",
    "plot(df_oL_gazebo.index, df_oL_gazebo, linestyle=\"\", marker='.', markersize=1)\n",
    "grid(True)"
   ]
  },
  {
   "cell_type": "code",
   "execution_count": null,
   "metadata": {},
   "outputs": [],
   "source": [
    "fig, axes = subplots(1, 1, figsize=(10,6))\n",
    "\n",
    "# plot(df_qL_gazebo.index, df_qL_gazebo.iloc[:,0:2])\n",
    "# plot(mav_target_attitude.index, -mav_target_attitude.iloc[:,0:2])\n",
    "plot(df_tauL_gazebo.index, df_tauL_gazebo, linestyle=\"\", marker='.', markersize=1)\n",
    "grid(True)"
   ]
  },
  {
   "cell_type": "code",
   "execution_count": null,
   "metadata": {},
   "outputs": [],
   "source": [
    "t = pd.to_timedelta(df_pQ_gazebo.index - df_pQ_gazebo.index[0] ).total_seconds().to_numpy()\n",
    "\n",
    "pQ = transform_position_I(df_pQ_gazebo.values.reshape(-1,1,3,1))\n",
    "pL = transform_position_I(df_pL_gazebo.values.reshape(-1,1,3,1))\n",
    "vQ = transform_position_I(df_vQ_gazebo.values.reshape(-1,1,3,1))\n",
    "vL = transform_position_I(df_vL_gazebo.values.reshape(-1,1,3,1))\n",
    "aQ = transform_position_I(df_fQ_gazebo.values.reshape(-1,1,3,1))\n",
    "aL = transform_position_I(df_fL_gazebo.values.reshape(-1,1,3,1))\n",
    "\n",
    "pQ = np.nan_to_num(pQ)\n",
    "pL = np.nan_to_num(pL)\n",
    "vQ = np.nan_to_num(vQ)\n",
    "vL = np.nan_to_num(vL)\n",
    "aQ = np.nan_to_num(aQ)\n",
    "aQ = np.nan_to_num(aL)\n",
    "\n",
    "actuation = mav_actuators.values.reshape(-1,1,4,1)\n",
    "target_attitude = mav_target_attitude.values.reshape(-1,1,4,1)"
   ]
  },
  {
   "cell_type": "code",
   "execution_count": null,
   "metadata": {},
   "outputs": [],
   "source": [
    "def skew(v):\n",
    "    # New shape is v shape with last dimension 3 instead of 1 (3x1 vector --> 3x3 matrix)\n",
    "    s = np.asarray(v.shape)\n",
    "    s[-1] = 3\n",
    "    \n",
    "    # Vectorize\n",
    "    # Maintains the shape of v for vi\n",
    "    v0 = v[...,0,0,np.newaxis,np.newaxis]\n",
    "    v1 = v[...,1,0,np.newaxis,np.newaxis]\n",
    "    v2 = v[...,2,0,np.newaxis,np.newaxis]\n",
    "\n",
    "    z = np.zeros_like(v0)\n",
    "    \n",
    "    # TODO: Check that dim(v) = 3\n",
    "    res = np.concatenate([z, -v2, v1,\n",
    "                    v2, z, -v0,\n",
    "                    -v1, v0, z],axis=-2)\n",
    "    \n",
    "    return res.reshape(s)\n",
    "\n",
    "def unskew(M):\n",
    "    # New shape is M shape with last dimension 1 instead of 3 (3x3 matrix --> 3x1 vector)\n",
    "    s = np.asarray(M.shape)\n",
    "    s[-1] = 1\n",
    "\n",
    "    # TODO: Check if M is anti-symmetric\n",
    "#     TODO: stack along axis=-1 instead of using reshape()\n",
    "    \n",
    "    res = np.stack([-M[...,1,2].reshape(-1,1),\n",
    "                  M[...,0,2].reshape(-1,1),\n",
    "                  -M[...,0,1].reshape(-1,1)],axis=1).reshape(s)\n",
    "    \n",
    "    return res\n",
    "\n",
    "# TODO: Check that unskew(skew(v)) == v\n",
    "# TODO: Do not make assumptions on shape of input"
   ]
  },
  {
   "cell_type": "code",
   "execution_count": null,
   "metadata": {},
   "outputs": [],
   "source": [
    "def mt(M):\n",
    "# Matrix transpose no matter what is M shape.  M = (...) x n x m or M = (...) x m x n\n",
    "    \n",
    "    return np.swapaxes(M,-1,-2)"
   ]
  },
  {
   "cell_type": "code",
   "execution_count": null,
   "metadata": {},
   "outputs": [],
   "source": [
    "l = norm(pL - pQ, axis=-2, keepdims=True)\n",
    "\n",
    "q = (pL - pQ) / norm(pL - pQ, axis=-2, keepdims=True)\n",
    "q = np.nan_to_num(q)\n",
    "\n",
    "dq = (np.eye(3) - q @ mt(q)) @ (vL - vQ) / norm(pL - pQ, axis=-2, keepdims=True)\n",
    "dq = np.nan_to_num(dq)\n",
    "\n",
    "o = - skew(q) @ dq\n",
    "\n",
    "n = len(pQ)"
   ]
  },
  {
   "cell_type": "code",
   "execution_count": null,
   "metadata": {},
   "outputs": [],
   "source": [
    "plot(np.squeeze(l[:-1]))"
   ]
  },
  {
   "cell_type": "code",
   "execution_count": null,
   "metadata": {},
   "outputs": [],
   "source": [
    "RL = np.repeat(np.eye(3).reshape(-1,1,3,3),n,axis=0)\n",
    "oL = np.zeros([n,1,3,1])\n",
    "RQ = np.repeat(np.eye(3).reshape(-1,1,3,3),n,axis=0)\n",
    "oQ = np.zeros([n,1,3,1])\n",
    "delta_TLd = np.zeros([n,1,3,1])\n",
    "V = np.zeros([n,1,1,1])\n",
    "\n",
    "# print(\"===================================\")\n",
    "\n",
    "y = pack_solution(pL,\n",
    "            vL,\n",
    "            RL,\n",
    "            oL,\n",
    "            delta_TLd,\n",
    "            q,\n",
    "            o,\n",
    "            RQ,\n",
    "            oQ,\n",
    "            V)\n",
    "\n",
    "t = pd.to_timedelta(df_pQ_gazebo.index - df_pQ_gazebo.index[0] ).total_seconds().to_numpy()\n",
    "\n",
    "dy, state = process_state(t,mt(y))"
   ]
  },
  {
   "cell_type": "code",
   "execution_count": null,
   "metadata": {},
   "outputs": [],
   "source": [
    "fig, axes = subplots(5, 3, figsize=(20, 16))\n",
    "\n",
    "all_axes = [ax.grid() for sublist in axes for ax in sublist]\n",
    "\n",
    "axes[0,0].plot(t,squeeze(pL))\n",
    "axes[0,1].plot(t,squeeze(vL))\n",
    "axes[0,2].plot(t,squeeze(aL))\n",
    "\n",
    "axes[1,0].plot(t,squeeze(pQ))\n",
    "axes[1,1].plot(t,squeeze(vQ))\n",
    "axes[1,2].plot(t,squeeze(aQ))\n",
    "\n",
    "axes[2,0].plot(t,squeeze(q))\n",
    "axes[2,1].plot(t[:-1],squeeze(o[:-1,...]))\n",
    "# axes[2,1].set_ylim([-0.01,0.01])\n",
    "axes[2,2].plot(t,squeeze(state.u_perp))\n",
    "\n",
    "axes[3,0].plot(t,squeeze(state.q-state.qd))\n",
    "axes[3,1].plot(t,squeeze(state.F-state.Fd))\n",
    "# axes[3,2].plot(t,squeeze(state.F))\n",
    "axes[3,2].plot(t,squeeze(state.qF))\n",
    "\n",
    "axes[4,0].plot(t,squeeze(mav_target_attitude))\n",
    "axes[4,1].plot(t,squeeze(mav_actuators))\n",
    "# axes[3,2].plot(t,squeeze(state.F))\n",
    "# axes[4,2].plot(t,squeeze(state.qF))\n",
    "\n",
    "# target_attitude"
   ]
  },
  {
   "cell_type": "markdown",
   "metadata": {},
   "source": [
    "# Comparisons"
   ]
  },
  {
   "cell_type": "markdown",
   "metadata": {},
   "source": [
    "## Position"
   ]
  },
  {
   "cell_type": "code",
   "execution_count": null,
   "metadata": {},
   "outputs": [],
   "source": [
    "fig, axes = subplots(1, 3, figsize=(15, 4))\n",
    "\n",
    "all_axes = [ax.grid() for ax in axes]\n",
    "\n",
    "axes[0].plot(t,squeeze(df_pQ_gazebo.values))\n",
    "axes[1].plot(t,squeeze(df_pQ_odom))\n",
    "axes[2].plot(t,squeeze(df_pQ_gazebo.values - df_pQ_odom))"
   ]
  },
  {
   "cell_type": "code",
   "execution_count": null,
   "metadata": {},
   "outputs": [],
   "source": [
    "fig, axes = subplots(2, 3, figsize=(15, 4))\n",
    "\n",
    "all_axes = [ax.grid() for sublist in axes for ax in sublist]\n",
    "\n",
    "axes[0,0].plot(t,squeeze(df_pQ_gazebo.values))\n",
    "axes[0,1].plot(t,squeeze(df_vQ_gazebo.values))\n",
    "# axes[2].plot(t,squeeze(cumtrapz(df_vQ_gazebo.values,t,axis=0,initial=0)))\n",
    "axes[0,2].plot(t,squeeze(df_pQ_gazebo.values-cumtrapz(df_vQ_gazebo.values,t,axis=0,initial=0)-df_pQ_gazebo.values[0,:]))\n",
    "axes[1,0].plot(t,squeeze(df_pL_gazebo.values))\n",
    "axes[1,1].plot(t,squeeze(df_vL_gazebo.values))\n",
    "# axes[2].plot(t,squeeze(cumtrapz(df_vQ_gazebo.values,t,axis=0,initial=0)))\n",
    "axes[1,2].plot(t,squeeze(df_pL_gazebo.values-cumtrapz(df_vL_gazebo.values,t,axis=0,initial=0)-df_pL_gazebo.values[0,:]))"
   ]
  },
  {
   "cell_type": "markdown",
   "metadata": {},
   "source": [
    "## Attitude"
   ]
  },
  {
   "cell_type": "code",
   "execution_count": null,
   "metadata": {},
   "outputs": [],
   "source": [
    "df_qQ_gazebo.values[:,0] = -df_qQ_gazebo.values[:,0] * np.sign(df_qQ_gazebo.values[:,3])\n",
    "df_qQ_gazebo.values[:,1] = -df_qQ_gazebo.values[:,1] * np.sign(df_qQ_gazebo.values[:,3])\n",
    "df_qQ_gazebo.values[:,2] = -df_qQ_gazebo.values[:,2] * np.sign(df_qQ_gazebo.values[:,3])\n",
    "df_qQ_gazebo.values[:,3] = -df_qQ_gazebo.values[:,3] * np.sign(df_qQ_gazebo.values[:,3])"
   ]
  },
  {
   "cell_type": "code",
   "execution_count": null,
   "metadata": {},
   "outputs": [],
   "source": [
    "fig, axes = subplots(3, 3, figsize=(20, 15))\n",
    "\n",
    "all_axes = [ax.grid() for sublist in axes for ax in sublist]\n",
    "\n",
    "plot_options = {'linestyle':\"\", 'marker':'.', 'markersize':1}\n",
    "\n",
    "axes[0,0].plot(t,squeeze(df_qQ_gazebo.values), **plot_options)\n",
    "axes[0,1].plot(t,squeeze(df_qQ_imu.values), **plot_options)\n",
    "axes[0,2].plot(t,squeeze(df_qQ_odom.values), **plot_options)\n",
    "axes[1,0].plot(t,squeeze(df_qQ_setpoint.values), **plot_options)\n",
    "axes[1,1].plot(t,squeeze(df_qQ_setpoint_target.values), **plot_options)\n",
    "axes[1,2].plot(t,squeeze(df_qQ_imu.values - df_qQ_odom.values), **plot_options)\n",
    "axes[2,0].plot(t,squeeze(df_qQ_gazebo.values - df_qQ_imu.values), **plot_options)\n",
    "axes[2,1].plot(t,squeeze(df_qQ_gazebo.values - df_qQ_odom.values), **plot_options)\n",
    "axes[2,2].plot(t,squeeze(df_qQ_gazebo.values - df_qQ_setpoint.values), **plot_options)"
   ]
  },
  {
   "cell_type": "markdown",
   "metadata": {},
   "source": [
    "## Load angle"
   ]
  },
  {
   "cell_type": "code",
   "execution_count": null,
   "metadata": {},
   "outputs": [],
   "source": [
    "fig, axes = subplots(3, 3, figsize=(20, 15))\n",
    "\n",
    "all_axes = [ax.grid() for sublist in axes for ax in sublist]\n",
    "\n",
    "plot_options = {'linestyle':\"\", 'marker':'.', 'markersize':1}\n",
    "\n",
    "axes[0,0].plot(t,squeeze(state.q), **plot_options)\n",
    "axes[0,1].plot(t,squeeze(state.qd), **plot_options)\n",
    "axes[0,2].plot(t,squeeze(state.q - state.qd), **plot_options)\n",
    "axes[1,0].plot(t,squeeze(state.q_actuation), **plot_options)\n",
    "axes[1,1].plot(t,squeeze(state.e_q), **plot_options)\n",
    "axes[1,2].plot(t,squeeze(state.e_oq), **plot_options)"
   ]
  },
  {
   "cell_type": "markdown",
   "metadata": {},
   "source": [
    "## State vars"
   ]
  },
  {
   "cell_type": "code",
   "execution_count": null,
   "metadata": {},
   "outputs": [],
   "source": [
    "fig, axes = subplots(3, 3, figsize=(20, 15))\n",
    "\n",
    "all_axes = [ax.grid() for sublist in axes for ax in sublist]\n",
    "\n",
    "plot_options = {'linestyle':\"\", 'marker':'.', 'markersize':1}\n",
    "\n",
    "axes[0,0].plot(t,squeeze(state.mud), **plot_options)\n",
    "axes[0,1].plot(t,squeeze(state.mu), **plot_options)\n",
    "axes[0,2].plot(t,squeeze(state.mu - state.mud), **plot_options)\n",
    "\n",
    "axes[1,0].plot(t,squeeze(state.Fd), **plot_options)\n",
    "axes[1,1].plot(t,squeeze(state.TLd), **plot_options)\n",
    "\n",
    "axes[2,0].plot(t,squeeze(state.u), **plot_options)\n",
    "axes[2,1].plot(t,squeeze(state.u_parallel), t,squeeze(state.mu), **plot_options)\n",
    "axes[2,2].plot(t,squeeze(state.u_perp), **plot_options)"
   ]
  },
  {
   "cell_type": "code",
   "execution_count": null,
   "metadata": {},
   "outputs": [],
   "source": [
    "# u_parallel = mu + mQ * lq * norm(oq, axis=-2, keepdims=True)**2 * q + mQ * q @ mt(q) @ a\n",
    "fig, axes = subplots(3, 3, figsize=(20, 15))\n",
    "\n",
    "all_axes = [ax.grid() for sublist in axes for ax in sublist]\n",
    "\n",
    "plot_options = {'linestyle':\"\", 'marker':'.', 'markersize':1}\n",
    "\n",
    "axes[0,0].plot(t,squeeze(state.mu), **plot_options)\n",
    "axes[0,1].plot(t,squeeze(mQ * lq * norm(state.oq, axis=-2, keepdims=True)**2 * state.q), **plot_options)\n",
    "axes[0,2].plot(t,squeeze(mQ * state.q @ mt(state.q) @ state.a), **plot_options)\n",
    "axes[1,0].plot(t,squeeze(state.q))\n",
    "axes[1,1].plot(t,squeeze(state.dq))\n",
    "axes[1,2].plot(t,squeeze(state.oq))\n",
    "axes[2,0].plot(t,squeeze(q))\n",
    "axes[2,1].plot(t,squeeze((np.eye(3) - q @ mt(q)) @ (vL - vQ) / norm(pL - pQ, axis=-2, keepdims=True)))\n",
    "axes[2,2].plot(t,squeeze(q),t,squeeze((vL - vQ) / norm(pL - pQ, axis=-2, keepdims=True)))"
   ]
  },
  {
   "cell_type": "code",
   "execution_count": null,
   "metadata": {},
   "outputs": [],
   "source": []
  },
  {
   "cell_type": "code",
   "execution_count": null,
   "metadata": {},
   "outputs": [],
   "source": []
  },
  {
   "cell_type": "code",
   "execution_count": null,
   "metadata": {},
   "outputs": [],
   "source": []
  },
  {
   "cell_type": "code",
   "execution_count": null,
   "metadata": {},
   "outputs": [],
   "source": [
    "fig, axes = subplots(5, 3, figsize=(20, 15))\n",
    "\n",
    "all_axes = [ax.grid() for sublist in axes for ax in sublist]\n",
    "# all_axes = [ax.set_xlim([20,30]) for sublist in axes for ax in sublist]\n",
    "plot_options = {'linestyle':\"\", 'marker':'.', 'markersize':1}\n",
    "\n",
    "axes[0,0].plot(t,squeeze(state.q), **plot_options)\n",
    "axes[0,1].plot(t,squeeze(state.oq), **plot_options)\n",
    "axes[0,1].set_ylim([-1,1])\n",
    "axes[0,2].plot(t,squeeze(state.doq), **plot_options)\n",
    "\n",
    "axes[1,0].plot(t,squeeze(state.qd),t,squeeze(state.qd), **plot_options)\n",
    "axes[1,1].plot(t,squeeze(state.oqd), **plot_options)\n",
    "axes[1,1].set_ylim([-1,1])\n",
    "axes[1,2].plot(t,squeeze(state.doqd), **plot_options)\n",
    "\n",
    "axes[2,0].plot(t,squeeze(state.q),t,squeeze(state.qd), **plot_options)\n",
    "axes[2,1].plot(t,squeeze(state.oq),t,squeeze(state.oqd), **plot_options)\n",
    "axes[2,1].set_ylim([-1,1])\n",
    "axes[2,2].plot(t,squeeze(state.zoq), **plot_options)\n",
    "\n",
    "axes[3,0].plot(t,squeeze(state.oq), **plot_options)\n",
    "axes[3,1].plot(t[:-1],50*diff(squeeze(state.oq),axis=0), **plot_options)\n",
    "axes[3,1].set_ylim([-2,2])\n",
    "axes[3,2].plot(t,squeeze(state.doq), **plot_options)"
   ]
  },
  {
   "cell_type": "code",
   "execution_count": null,
   "metadata": {},
   "outputs": [],
   "source": [
    "# u_perp_d =  (mQ * lq) * skew(q) @ (\n",
    "#         - 1 / lq * skew(q) @ a \n",
    "#         - skew(dq) @ skew(q) @ oqd\n",
    "#         - skew(q) @ skew(dq) @ oqd\n",
    "#         - skew(q) @ skew(q) @ doqd\n",
    "#         - 1 / L_q * (\n",
    "#                 + (mt(dqd) @ TLd) * skew(q)\n",
    "#                 + (mt(qd) @ dTLd) * skew(q)\n",
    "#                 + (mt(qd) @ TLd) * skew(dq)\n",
    "#             ) @ (\n",
    "#                     1/mL * (x_pv * pe + ve)\n",
    "#                 )\n",
    "#         - 1 / L_q * (mt(qd) @ TLd) * skew(q) @ (\n",
    "#             1/mL * (x_pv * ve + ae)\n",
    "#         ) \n",
    "#         + koq / L_oq * zoq\n",
    "#         + L_q / L_oq * skew(q) @ qd\n",
    "#     )"
   ]
  },
  {
   "cell_type": "code",
   "execution_count": null,
   "metadata": {},
   "outputs": [],
   "source": []
  },
  {
   "cell_type": "code",
   "execution_count": null,
   "metadata": {},
   "outputs": [],
   "source": []
  },
  {
   "cell_type": "code",
   "execution_count": null,
   "metadata": {},
   "outputs": [],
   "source": [
    "fig, axes = subplots(2, 2, figsize=(20, 15))\n",
    "\n",
    "all_axes = [ax.set_xlim([10,20]) for sublist in axes for ax in sublist]\n",
    "all_axes = [ax.grid() for sublist in axes for ax in sublist]\n",
    "\n",
    "axes[0,0].plot(t[:-1],50*diff(squeeze(state.oq),axis=0)[:,0], **plot_options)\n",
    "axes[0,0].set_ylim([-2,2])\n",
    "axes[0,0].plot(t,squeeze(state.doq)[:,0], **plot_options)\n",
    "\n",
    "axes[0,1].plot(t[:-1],50*diff(squeeze(state.oq),axis=0)[:,1], **plot_options)\n",
    "axes[0,1].set_ylim([-2,2])\n",
    "axes[0,1].plot(t,squeeze(state.doq)[:,1], **plot_options)\n",
    "\n",
    "axes[1,0].plot(t[:-1],50*diff(squeeze(state.oq),axis=0)[:,2], **plot_options)\n",
    "axes[1,0].set_ylim([-2,2])\n",
    "axes[1,0].plot(t,squeeze(state.doq)[:,2], **plot_options)\n",
    "\n",
    "axes[1,1].plot(t[:-1],50*diff(squeeze(state.oq),axis=0), **plot_options)\n",
    "axes[1,1].set_ylim([-2,2])\n",
    "axes[1,1].plot(t,squeeze(state.doq), **plot_options)"
   ]
  },
  {
   "cell_type": "code",
   "execution_count": null,
   "metadata": {},
   "outputs": [],
   "source": []
  },
  {
   "cell_type": "code",
   "execution_count": null,
   "metadata": {},
   "outputs": [],
   "source": []
  },
  {
   "cell_type": "code",
   "execution_count": null,
   "metadata": {},
   "outputs": [],
   "source": [
    "fig, axes = subplots(2, 2, figsize=(20, 15))\n",
    "\n",
    "all_axes = [ax.set_xlim([10,20]) for sublist in axes for ax in sublist]\n",
    "all_axes = [ax.grid() for sublist in axes for ax in sublist]\n",
    "\n",
    "axes[0,0].plot(t[:-1],50*diff(squeeze(state.oq),axis=0)[:,0], **plot_options)\n",
    "axes[0,0].set_ylim([-2,2])\n",
    "axes[0,0].plot(t,squeeze(- 1 / (mQ * lq) * skew(state.q) @ state.u_perp)[:,0], **plot_options)\n",
    "\n",
    "axes[0,1].plot(t[:-1],50*diff(squeeze(state.oq),axis=0)[:,1], **plot_options)\n",
    "axes[0,1].set_ylim([-2,2])\n",
    "axes[0,1].plot(t,squeeze(- 1 / (mQ * lq) * skew(state.q) @ state.u_perp)[:,1], **plot_options)\n",
    "\n",
    "axes[1,0].plot(t[:-1],50*diff(squeeze(state.oq),axis=0)[:,2], **plot_options)\n",
    "axes[1,0].set_ylim([-2,2])\n",
    "axes[1,0].plot(t,squeeze(- 1 / (mQ * lq) * skew(state.q) @ state.u_perp)[:,2], **plot_options)\n",
    "\n",
    "axes[1,1].plot(t[:-1],50*diff(squeeze(state.oq),axis=0), **plot_options)\n",
    "axes[1,1].set_ylim([-2,2])\n",
    "axes[1,1].plot(t,squeeze(- 1 / (mQ * lq) * skew(state.q) @ state.u_perp), **plot_options)"
   ]
  },
  {
   "cell_type": "code",
   "execution_count": null,
   "metadata": {},
   "outputs": [],
   "source": []
  },
  {
   "cell_type": "code",
   "execution_count": null,
   "metadata": {},
   "outputs": [],
   "source": []
  },
  {
   "cell_type": "code",
   "execution_count": null,
   "metadata": {},
   "outputs": [],
   "source": []
  },
  {
   "cell_type": "code",
   "execution_count": null,
   "metadata": {},
   "outputs": [],
   "source": []
  },
  {
   "cell_type": "code",
   "execution_count": null,
   "metadata": {},
   "outputs": [],
   "source": [
    "fig, axes = subplots(4, 3, figsize=(20, 15))\n",
    "\n",
    "all_axes = [ax.grid() for sublist in axes for ax in sublist]\n",
    "all_axes = [ax.set_xlim([10,20]) for sublist in axes for ax in sublist]\n",
    "plot_options = {'linestyle':\"\", 'marker':'.', 'markersize':1}\n",
    "\n",
    "axes[0,0].plot(t,squeeze(state.p), **plot_options)\n",
    "axes[0,1].plot(t,squeeze(state.v), **plot_options)\n",
    "axes[0,2].plot(t,squeeze(state.dv), **plot_options)\n",
    "# axes[0,2].plot(t,squeeze(state.doq), **plot_options)\n",
    "\n",
    "axes[1,0].plot(t,squeeze(df_pL_gazebo.values))\n",
    "axes[1,1].plot(t,squeeze(df_vL_gazebo.values))\n",
    "axes[1,2].plot(t[:-1],50*diff(squeeze(df_vL_gazebo.values),axis=0))\n",
    "\n",
    "axes[2,0].plot(t,squeeze(state.p), t,squeeze(df_pL_gazebo.values))\n",
    "axes[2,1].plot(t,squeeze(state.v), t,squeeze(df_vL_gazebo.values))\n",
    "axes[2,2].plot(t,squeeze(state.dv), t[:-1],50*diff(squeeze(df_vL_gazebo.values),axis=0))\n",
    "\n",
    "axes[3,0].plot(t,squeeze(state.dv), **plot_options)\n",
    "axes[3,1].plot(t,squeeze(state.Fd), **plot_options)\n",
    "axes[3,2].plot(t,squeeze(state.F), **plot_options)\n",
    "# axes[0,2].plot(t,squeeze(state.doq), **plot_options)\n"
   ]
  },
  {
   "cell_type": "code",
   "execution_count": null,
   "metadata": {},
   "outputs": [],
   "source": [
    "fig, axes = subplots(3, 3, figsize=(20, 15))\n",
    "\n",
    "all_axes = [ax.grid() for sublist in axes for ax in sublist]\n",
    "all_axes = [ax.set_xlim([10,20]) for sublist in axes for ax in sublist]\n",
    "plot_options = {'linestyle':\"\", 'marker':'.', 'markersize':1}\n",
    "\n",
    "axes[0,0].plot(t,squeeze(df_qQ_gazebo.values), **plot_options)\n",
    "axes[0,1].plot(t,squeeze(df_qQ_setpoint_target.values), **plot_options)\n",
    "axes[0,2].plot(t,squeeze(df_qQ_gazebo.values), t,squeeze(df_qQ_setpoint_target.values), **plot_options)\n",
    "\n",
    "\n",
    "axes[1,0].plot(t,squeeze(df_TQ_target), **plot_options)\n",
    "axes[1,1].plot(t,squeeze(df_TQ_setpoint), **plot_options)\n",
    "axes[1,2].plot(t,squeeze(df_TQ_target),t,squeeze(df_TQ_setpoint), **plot_options)"
   ]
  },
  {
   "cell_type": "code",
   "execution_count": null,
   "metadata": {},
   "outputs": [],
   "source": []
  },
  {
   "cell_type": "code",
   "execution_count": null,
   "metadata": {},
   "outputs": [],
   "source": []
  },
  {
   "cell_type": "code",
   "execution_count": null,
   "metadata": {},
   "outputs": [],
   "source": []
  },
  {
   "cell_type": "code",
   "execution_count": null,
   "metadata": {},
   "outputs": [],
   "source": []
  },
  {
   "cell_type": "code",
   "execution_count": null,
   "metadata": {},
   "outputs": [],
   "source": [
    "fig, axes = subplots(2, 2, figsize=(20, 15))\n",
    "\n",
    "all_axes = [ax.set_xlim([10,20]) for sublist in axes for ax in sublist]\n",
    "all_axes = [ax.grid() for sublist in axes for ax in sublist]\n",
    "\n",
    "axes[0,0].plot(t[:-1],50*diff(squeeze(state.oq),axis=0)[:,0], **plot_options)\n",
    "axes[0,0].set_ylim([-2,2])\n",
    "axes[0,0].plot(t,squeeze( 1 / (mQ * lq) * skew(state.q) @ state.u_perp)[:,0], **plot_options)\n",
    "\n",
    "axes[0,1].plot(t[:-1],50*diff(squeeze(state.oq),axis=0)[:,1], **plot_options)\n",
    "axes[0,1].set_ylim([-2,2])\n",
    "axes[0,1].plot(t,squeeze( 1 / (mQ * lq) * skew(state.q) @ state.u_perp)[:,1], **plot_options)\n",
    "\n",
    "axes[1,0].plot(t[:-1],50*diff(squeeze(state.oq),axis=0)[:,2], **plot_options)\n",
    "axes[1,0].set_ylim([-2,2])\n",
    "axes[1,0].plot(t,squeeze( 1 / (mQ * lq) * skew(state.q) @ state.u_perp)[:,2], **plot_options)\n",
    "\n",
    "axes[1,1].plot(t[:-1],50*diff(squeeze(state.oq),axis=0), **plot_options)\n",
    "axes[1,1].set_ylim([-2,2])\n",
    "axes[1,1].plot(t,squeeze( 1 / (mQ * lq) * skew(state.q) @ state.u_perp), **plot_options)"
   ]
  },
  {
   "cell_type": "code",
   "execution_count": null,
   "metadata": {},
   "outputs": [],
   "source": []
  }
 ],
 "metadata": {
  "kernelspec": {
   "display_name": "Python 3",
   "language": "python",
   "name": "python3"
  },
  "language_info": {
   "codemirror_mode": {
    "name": "ipython",
    "version": 3
   },
   "file_extension": ".py",
   "mimetype": "text/x-python",
   "name": "python",
   "nbconvert_exporter": "python",
   "pygments_lexer": "ipython3",
   "version": "3.6.8"
  }
 },
 "nbformat": 4,
 "nbformat_minor": 4
}
